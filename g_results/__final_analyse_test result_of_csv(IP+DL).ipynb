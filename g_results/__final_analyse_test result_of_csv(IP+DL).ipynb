{
 "cells": [
  {
   "cell_type": "code",
   "execution_count": 76,
   "id": "middle-surprise",
   "metadata": {},
   "outputs": [],
   "source": [
    "import sys\n",
    "import os\n",
    "\n",
    "import pandas as pd\n",
    "import numpy as np\n",
    "from numpy import polyfit, poly1d, polyval\n",
    "\n",
    "import matplotlib.pyplot as plt\n",
    "import seaborn as sns"
   ]
  },
  {
   "cell_type": "code",
   "execution_count": 77,
   "id": "4853b5ef",
   "metadata": {},
   "outputs": [
    {
     "data": {
      "text/plain": [
       "'U:\\\\my_projs'"
      ]
     },
     "execution_count": 77,
     "metadata": {},
     "output_type": "execute_result"
    }
   ],
   "source": [
    "pwd"
   ]
  },
  {
   "cell_type": "code",
   "execution_count": 90,
   "id": "29f8a70e",
   "metadata": {},
   "outputs": [],
   "source": [
    "lsd_result_path = \"U:/my_projs/g_output_PPT/lsd_test_result.csv\"\n",
    "edlines_result_path = \"U:/my_projs/g_output_PPT/edlines_test_result.csv\"\n",
    "canny_result_path = \"U:/my_projs/g_output_PPT/cannyPF_test_result.csv\"\n",
    "mcmlsd_result_path = \"U:/my_projs/g_output_PPT/MCMLSD_test_result.csv\"\n",
    "\n",
    "htlcnn_result_path = \"U:/my_projs/g_output_PPT/test_10-19_HTLCNN.csv\"\n",
    "fclip_result_path = \"U:/my_projs/g_output_PPT/test_10-26_FClip_HG2_LB(truncated).csv\"\n",
    "\n",
    "df_lsd_original = pd.read_csv(lsd_result_path)\n",
    "df_edlines_original = pd.read_csv(edlines_result_path)\n",
    "df_canny_original = pd.read_csv(canny_result_path)\n",
    "df_mcmlsd_original = pd.read_csv(mcmlsd_result_path)\n",
    "\n",
    "df_htlcnn_original = pd.read_csv(htlcnn_result_path)\n",
    "df_fclip_original = pd.read_csv(fclip_result_path)"
   ]
  },
  {
   "cell_type": "code",
   "execution_count": 91,
   "id": "4d58b132",
   "metadata": {},
   "outputs": [],
   "source": [
    "def filter_ip_cols(df, method):\n",
    "    df['time'] = df['runTime_cpp'] + df['runTime_matlab']\n",
    "    df['left_pos_big'] = df[['left_pos1', 'left_pos2']].apply(max, axis=1)\n",
    "    df['left_pos_small'] = df[['left_pos1', 'left_pos2']].apply(min, axis=1)\n",
    "    df['right_pos_big'] = df[['right_pos1', 'right_pos2']].apply(max, axis=1)\n",
    "    df['right_pos_small'] = df[['right_pos1', 'right_pos2']].apply(min, axis=1)\n",
    "    \n",
    "    df.drop(['runTime_cpp', 'runTime_matlab', 'left_window_start', 'left_pos1', 'left_pos2', 'left_num', 'left_len', \\\n",
    "             'right_window_start', 'right_pos1', 'right_pos2', 'right_num', 'right_len', \\\n",
    "            'metric_RMSE_polyfit', 'scale', 'angle_expect', 'angle_tolerance', 'windowWidth', 'windowStepSize', 'decision_criter', \\\n",
    "             'prior_excluded_middle_percent', 'is_labeled'], axis=1, inplace=True)\n",
    "    \n",
    "\n",
    "    rename = {\n",
    "        'folderName': 'folder',\n",
    "        'imgName': 'img',\n",
    "        'left_border_label': 'left_label',\n",
    "        'right_border_label': 'right_label',\n",
    "        'metric_RMSE_vertical': 'RSE',\n",
    "    } \n",
    "    df.rename(rename, axis=1, inplace=True)\n",
    "    \n",
    "    df['method'] = method\n",
    "    df['middle_MAE'] = np.abs(((df['left_pos_small']+df['right_pos_big'])/2) - ((df['left_label']+df['right_label'])/2))\n",
    "    \n",
    "    return df"
   ]
  },
  {
   "cell_type": "code",
   "execution_count": 92,
   "id": "148c2427",
   "metadata": {},
   "outputs": [],
   "source": [
    "df_lsd = filter_ip_cols(df_lsd_original, 'LSD')\n",
    "df_edlines = filter_ip_cols(df_edlines_original, 'EDLines')\n",
    "df_canny = filter_ip_cols(df_canny_original, 'CannyPF')\n",
    "df_mcmlsd = filter_ip_cols(df_mcmlsd_original, 'MCMLSD')"
   ]
  },
  {
   "cell_type": "code",
   "execution_count": 93,
   "id": "fe80f01c",
   "metadata": {},
   "outputs": [
    {
     "name": "stdout",
     "output_type": "stream",
     "text": [
      "<class 'pandas.core.frame.DataFrame'>\n",
      "RangeIndex: 1508 entries, 0 to 1507\n",
      "Data columns (total 12 columns):\n",
      " #   Column           Non-Null Count  Dtype  \n",
      "---  ------           --------------  -----  \n",
      " 0   folder           1508 non-null   object \n",
      " 1   img              1508 non-null   object \n",
      " 2   left_label       1508 non-null   int64  \n",
      " 3   right_label      1508 non-null   int64  \n",
      " 4   RSE              1508 non-null   float64\n",
      " 5   time             1508 non-null   float64\n",
      " 6   left_pos_big     1508 non-null   int64  \n",
      " 7   left_pos_small   1508 non-null   int64  \n",
      " 8   right_pos_big    1508 non-null   int64  \n",
      " 9   right_pos_small  1508 non-null   int64  \n",
      " 10  method           1508 non-null   object \n",
      " 11  middle_MAE       1508 non-null   float64\n",
      "dtypes: float64(3), int64(6), object(3)\n",
      "memory usage: 141.5+ KB\n"
     ]
    }
   ],
   "source": [
    "df_lsd.info()"
   ]
  },
  {
   "cell_type": "code",
   "execution_count": 94,
   "id": "6943a155",
   "metadata": {},
   "outputs": [],
   "source": [
    "def parser_str_to_tuple(tuple_in_str):\n",
    "    x, y = tuple_in_str.split(',')\n",
    "    return (float(x[1:]), float(y[:-1]))\n",
    "\n",
    "def map_junc_to_pos(x1, y1, x2, y2):\n",
    "    y = np.array([x1, x2])\n",
    "    x = np.array([y1, y2])\n",
    "    \n",
    "    coeff = polyfit(x, y, 1)\n",
    "#     pos1 = poly1d(coeff, 0)  # equation of line\n",
    "#     pos2 = poly1d(coeff, 3087)\n",
    "    pos1 = polyval(coeff, 0)\n",
    "    pos2 = polyval(coeff, 0)\n",
    "    \n",
    "    return pos1, pos2"
   ]
  },
  {
   "cell_type": "code",
   "execution_count": 95,
   "id": "70f2ff60",
   "metadata": {},
   "outputs": [],
   "source": [
    "def filter_dl_cols(df, method):\n",
    "    df['x1'] = df['left_junc0'].apply(parser_str_to_tuple).apply(lambda x: x[0])\n",
    "    df['y1'] = df['left_junc0'].apply(parser_str_to_tuple).apply(lambda x: x[1])\n",
    "\n",
    "    df['x2'] = df['left_junc1'].apply(parser_str_to_tuple).apply(lambda x: x[0])\n",
    "    df['y2'] = df['left_junc1'].apply(parser_str_to_tuple).apply(lambda x: x[1])\n",
    "    \n",
    "    df['left_pos1'] = df.apply(lambda x: map_junc_to_pos(x.x1, x.y1, x.x2, x.y2), axis=1).apply(lambda x: x[0])\n",
    "    df['left_pos2'] = df.apply(lambda x: map_junc_to_pos(x.x1, x.y1, x.x2, x.y2), axis=1).apply(lambda x: x[1])\n",
    "    \n",
    "    df['left_pos_big'] = df[['left_pos1', 'left_pos2']].apply(max, axis=1)\n",
    "    df['left_pos_small'] = df[['left_pos1', 'left_pos2']].apply(min, axis=1)\n",
    "    df.drop(['x1', 'y1', 'x2', 'y2', 'left_pos1', 'left_pos2'], axis=1, inplace=True)\n",
    "    \n",
    "    \n",
    "    df['x1'] = df['right_junc0'].apply(parser_str_to_tuple).apply(lambda x: x[0])\n",
    "    df['y1'] = df['right_junc0'].apply(parser_str_to_tuple).apply(lambda x: x[1])\n",
    "\n",
    "    df['x2'] = df['right_junc1'].apply(parser_str_to_tuple).apply(lambda x: x[0])\n",
    "    df['y2'] = df['right_junc1'].apply(parser_str_to_tuple).apply(lambda x: x[1])\n",
    "    \n",
    "    df['right_pos1'] = df.apply(lambda x: map_junc_to_pos(x.x1, x.y1, x.x2, x.y2), axis=1).apply(lambda x: x[0])\n",
    "    df['right_pos2'] = df.apply(lambda x: map_junc_to_pos(x.x1, x.y1, x.x2, x.y2), axis=1).apply(lambda x: x[1])\n",
    "    \n",
    "    df['right_pos_big'] = df[['right_pos1', 'right_pos2']].apply(max, axis=1)\n",
    "    df['right_pos_small'] = df[['right_pos1', 'right_pos2']].apply(min, axis=1)\n",
    "    df.drop(['x1', 'y1', 'x2', 'y2', 'right_pos1', 'right_pos2'], axis=1, inplace=True)\n",
    "    \n",
    "    \n",
    "    df.drop(['Unnamed: 0', 'left_junc0', 'left_junc1', 'right_junc0', 'right_junc1'], axis=1, inplace=True)\n",
    "    \n",
    "    rename = {'RMSE': 'RSE'} \n",
    "    df.rename(rename, axis=1, inplace=True)\n",
    "    \n",
    "    df['method'] = method\n",
    "    df['middle_MAE'] = np.abs(((df['left_pos_small']+df['right_pos_big'])/2) - ((df['left_label']+df['right_label'])/2))\n",
    "    \n",
    "    return df"
   ]
  },
  {
   "cell_type": "code",
   "execution_count": 96,
   "id": "1b6d6fb8",
   "metadata": {},
   "outputs": [],
   "source": [
    "df_htlcnn = filter_dl_cols(df_htlcnn_original, 'HT-LCNN')\n",
    "df_fclip  = filter_dl_cols(df_fclip_original, 'F-Clip')"
   ]
  },
  {
   "cell_type": "code",
   "execution_count": 97,
   "id": "1be1d5f5",
   "metadata": {},
   "outputs": [
    {
     "data": {
      "text/html": [
       "<div>\n",
       "<style scoped>\n",
       "    .dataframe tbody tr th:only-of-type {\n",
       "        vertical-align: middle;\n",
       "    }\n",
       "\n",
       "    .dataframe tbody tr th {\n",
       "        vertical-align: top;\n",
       "    }\n",
       "\n",
       "    .dataframe thead th {\n",
       "        text-align: right;\n",
       "    }\n",
       "</style>\n",
       "<table border=\"1\" class=\"dataframe\">\n",
       "  <thead>\n",
       "    <tr style=\"text-align: right;\">\n",
       "      <th></th>\n",
       "      <th>folder</th>\n",
       "      <th>img</th>\n",
       "      <th>left_label</th>\n",
       "      <th>right_label</th>\n",
       "      <th>RSE</th>\n",
       "      <th>time</th>\n",
       "      <th>left_pos_big</th>\n",
       "      <th>left_pos_small</th>\n",
       "      <th>right_pos_big</th>\n",
       "      <th>right_pos_small</th>\n",
       "      <th>method</th>\n",
       "      <th>middle_MAE</th>\n",
       "    </tr>\n",
       "  </thead>\n",
       "  <tbody>\n",
       "    <tr>\n",
       "      <th>0</th>\n",
       "      <td>2022-04-28_13-09-34</td>\n",
       "      <td>66101184000.png</td>\n",
       "      <td>718</td>\n",
       "      <td>2177</td>\n",
       "      <td>19.253608</td>\n",
       "      <td>2.59375</td>\n",
       "      <td>699.62523</td>\n",
       "      <td>699.62523</td>\n",
       "      <td>2171.250000</td>\n",
       "      <td>2171.250000</td>\n",
       "      <td>HT-LCNN</td>\n",
       "      <td>12.062385</td>\n",
       "    </tr>\n",
       "    <tr>\n",
       "      <th>1</th>\n",
       "      <td>2022-04-28_13-09-34</td>\n",
       "      <td>38948688000.png</td>\n",
       "      <td>730</td>\n",
       "      <td>2181</td>\n",
       "      <td>31.901360</td>\n",
       "      <td>0.46875</td>\n",
       "      <td>699.62523</td>\n",
       "      <td>699.62523</td>\n",
       "      <td>2171.250185</td>\n",
       "      <td>2171.250185</td>\n",
       "      <td>HT-LCNN</td>\n",
       "      <td>20.062292</td>\n",
       "    </tr>\n",
       "  </tbody>\n",
       "</table>\n",
       "</div>"
      ],
      "text/plain": [
       "                folder              img  left_label  right_label        RSE  \\\n",
       "0  2022-04-28_13-09-34  66101184000.png         718         2177  19.253608   \n",
       "1  2022-04-28_13-09-34  38948688000.png         730         2181  31.901360   \n",
       "\n",
       "      time  left_pos_big  left_pos_small  right_pos_big  right_pos_small  \\\n",
       "0  2.59375     699.62523       699.62523    2171.250000      2171.250000   \n",
       "1  0.46875     699.62523       699.62523    2171.250185      2171.250185   \n",
       "\n",
       "    method  middle_MAE  \n",
       "0  HT-LCNN   12.062385  \n",
       "1  HT-LCNN   20.062292  "
      ]
     },
     "execution_count": 97,
     "metadata": {},
     "output_type": "execute_result"
    }
   ],
   "source": [
    "df_htlcnn.head(2)"
   ]
  },
  {
   "cell_type": "code",
   "execution_count": 98,
   "id": "4b870a55",
   "metadata": {},
   "outputs": [
    {
     "name": "stdout",
     "output_type": "stream",
     "text": [
      "<class 'pandas.core.frame.DataFrame'>\n",
      "RangeIndex: 1508 entries, 0 to 1507\n",
      "Data columns (total 12 columns):\n",
      " #   Column           Non-Null Count  Dtype  \n",
      "---  ------           --------------  -----  \n",
      " 0   folder           1508 non-null   object \n",
      " 1   img              1508 non-null   object \n",
      " 2   left_label       1508 non-null   int64  \n",
      " 3   right_label      1508 non-null   int64  \n",
      " 4   RSE              1508 non-null   float64\n",
      " 5   time             1508 non-null   float64\n",
      " 6   left_pos_big     1508 non-null   float64\n",
      " 7   left_pos_small   1508 non-null   float64\n",
      " 8   right_pos_big    1508 non-null   float64\n",
      " 9   right_pos_small  1508 non-null   float64\n",
      " 10  method           1508 non-null   object \n",
      " 11  middle_MAE       1508 non-null   float64\n",
      "dtypes: float64(7), int64(2), object(3)\n",
      "memory usage: 141.5+ KB\n"
     ]
    }
   ],
   "source": [
    "df_htlcnn.info()"
   ]
  },
  {
   "cell_type": "code",
   "execution_count": 105,
   "id": "676c06e3",
   "metadata": {},
   "outputs": [
    {
     "name": "stdout",
     "output_type": "stream",
     "text": [
      "<class 'pandas.core.frame.DataFrame'>\n",
      "RangeIndex: 1694 entries, 0 to 1693\n",
      "Data columns (total 12 columns):\n",
      " #   Column           Non-Null Count  Dtype  \n",
      "---  ------           --------------  -----  \n",
      " 0   folder           1694 non-null   object \n",
      " 1   img              1694 non-null   object \n",
      " 2   left_label       1694 non-null   int64  \n",
      " 3   right_label      1694 non-null   int64  \n",
      " 4   RSE              1694 non-null   float64\n",
      " 5   time             1694 non-null   float64\n",
      " 6   left_pos_big     1694 non-null   float64\n",
      " 7   left_pos_small   1694 non-null   float64\n",
      " 8   right_pos_big    1694 non-null   float64\n",
      " 9   right_pos_small  1694 non-null   float64\n",
      " 10  method           1694 non-null   object \n",
      " 11  middle_MAE       1694 non-null   float64\n",
      "dtypes: float64(7), int64(2), object(3)\n",
      "memory usage: 158.9+ KB\n"
     ]
    }
   ],
   "source": [
    "df_fclip.info()"
   ]
  },
  {
   "cell_type": "code",
   "execution_count": 111,
   "id": "3cff4a11",
   "metadata": {},
   "outputs": [],
   "source": [
    "df_fclip = df_fclip[(df_fclip.folder.isin(df_lsd.folder)) & (df_fclip.img.isin(df_lsd.img))]  # unhashable type: 'Series'"
   ]
  },
  {
   "cell_type": "code",
   "execution_count": 112,
   "id": "7620918a",
   "metadata": {},
   "outputs": [],
   "source": [
    "df = pd.concat([df_lsd, df_edlines, df_canny, df_mcmlsd, df_htlcnn, df_fclip], axis=0, ignore_index=True)"
   ]
  },
  {
   "cell_type": "code",
   "execution_count": 113,
   "id": "f823e99e",
   "metadata": {},
   "outputs": [
    {
     "name": "stdout",
     "output_type": "stream",
     "text": [
      "<class 'pandas.core.frame.DataFrame'>\n",
      "RangeIndex: 9093 entries, 0 to 9092\n",
      "Data columns (total 13 columns):\n",
      " #   Column           Non-Null Count  Dtype  \n",
      "---  ------           --------------  -----  \n",
      " 0   folder           9093 non-null   object \n",
      " 1   img              9093 non-null   object \n",
      " 2   left_label       9093 non-null   int64  \n",
      " 3   right_label      9093 non-null   int64  \n",
      " 4   RSE              9093 non-null   float64\n",
      " 5   time             9093 non-null   float64\n",
      " 6   left_pos_big     9093 non-null   float64\n",
      " 7   left_pos_small   9093 non-null   float64\n",
      " 8   right_pos_big    9093 non-null   float64\n",
      " 9   right_pos_small  9093 non-null   float64\n",
      " 10  method           9093 non-null   object \n",
      " 11  middle_MAE       9093 non-null   float64\n",
      " 12  img_all          1553 non-null   object \n",
      "dtypes: float64(7), int64(2), object(4)\n",
      "memory usage: 923.6+ KB\n"
     ]
    }
   ],
   "source": [
    "df.info()"
   ]
  },
  {
   "cell_type": "code",
   "execution_count": 6,
   "id": "7c676f83",
   "metadata": {},
   "outputs": [
    {
     "data": {
      "image/png": "[encoded data removed]",
      "text/plain": [
       "<Figure size 640x480 with 1 Axes>"
      ]
     },
     "metadata": {},
     "output_type": "display_data"
    }
   ],
   "source": [
    "h = sns.histplot(data=df, x='RMSE',kde=True)\n",
    "labels = [str(round(v)) if v else '' for v in h.containers[0].datavalues]\n",
    "h.bar_label(h.containers[0], labels=labels)  # plt.bar_label(bar, label_type='edge')\n",
    "h.set(xlabel='RMSE (pixels)')\n",
    "\n",
    "plt.show()\n",
    "fig = h.get_figure()\n",
    "fig.savefig('U:/my_projs/g_output_DL/HT-HAWP_test_hist of RMSE.png')"
   ]
  },
  {
   "cell_type": "code",
   "execution_count": 7,
   "id": "2d4f3e46",
   "metadata": {},
   "outputs": [
    {
     "data": {
      "text/plain": [
       "1508"
      ]
     },
     "execution_count": 7,
     "metadata": {},
     "output_type": "execute_result"
    }
   ],
   "source": [
    "df.shape[0]"
   ]
  },
  {
   "cell_type": "code",
   "execution_count": 8,
   "id": "3cef2407",
   "metadata": {},
   "outputs": [
    {
     "data": {
      "image/png": "[encoded data removed]",
      "text/plain": [
       "<Figure size 640x480 with 1 Axes>"
      ]
     },
     "metadata": {},
     "output_type": "display_data"
    }
   ],
   "source": [
    "df_ascend = df.sort_values(by=['RMSE'], axis=0)\n",
    "\n",
    "l = sns.lineplot(data=df_ascend, x=list(range(1,df.shape[0]+1)), y='RMSE')\n",
    "l.set(xlabel=f'Index: from 1 to {df.shape[0]}')\n",
    "l.set(ylabel='RMSE (pixels)')\n",
    "plt.savefig('U:/my_projs/g_output_DL/HT-HAWP test_ordered plot of RMSE.png')"
   ]
  },
  {
   "cell_type": "code",
   "execution_count": 9,
   "id": "9f656ff6",
   "metadata": {},
   "outputs": [
    {
     "data": {
      "text/plain": [
       "0.5831606432360743"
      ]
     },
     "execution_count": 9,
     "metadata": {},
     "output_type": "execute_result"
    }
   ],
   "source": [
    "df.time.mean()  # seconds"
   ]
  },
  {
   "cell_type": "code",
   "execution_count": 10,
   "id": "7acd5ee1",
   "metadata": {},
   "outputs": [
    {
     "data": {
      "text/plain": [
       "19.772952278469475"
      ]
     },
     "execution_count": 10,
     "metadata": {},
     "output_type": "execute_result"
    }
   ],
   "source": [
    "df.RMSE.mean() # pixels"
   ]
  },
  {
   "cell_type": "code",
   "execution_count": 11,
   "id": "61ca56b1",
   "metadata": {},
   "outputs": [
    {
     "name": "stdout",
     "output_type": "stream",
     "text": [
      "Total number are: 785, 568, 138, 17, 0\n"
     ]
    }
   ],
   "source": [
    "# select the result according to the RMSE value\n",
    "df_sub_0_20 = df[df.RMSE < 20]  # total number: 785\n",
    "df_sub_20_30 =  df[(df.RMSE >= 20) & (df.RMSE < 30)] # totalnumber: 568\n",
    "df_sub_30_40 =  df[(df.RMSE >= 30) & (df.RMSE < 40)] # totalnumber: 138\n",
    "df_sub_40_50 =  df[(df.RMSE >= 40) & (df.RMSE < 50)] # totalnumber: 17\n",
    "df_sub_over_50 =  df[(df.RMSE >50)] # total number: 0\n",
    "print(f'Total number are: {df_sub_0_20.shape[0]}, {df_sub_20_30.shape[0]}, {df_sub_30_40.shape[0]}, {df_sub_40_50.shape[0]}, {df_sub_over_50.shape[0]}')"
   ]
  },
  {
   "cell_type": "code",
   "execution_count": 12,
   "id": "7e321d70",
   "metadata": {},
   "outputs": [],
   "source": [
    "def parser_str_to_tuple(tuple_in_str):\n",
    "    x, y = tuple_in_str.split(',')\n",
    "    return (float(x[1:]), float(y[:-1]))"
   ]
  },
  {
   "cell_type": "code",
   "execution_count": 13,
   "id": "b57bbdb8",
   "metadata": {},
   "outputs": [],
   "source": [
    "juncs = []\n",
    "for record_tuple in df.itertuples():\n",
    "    _, _, folder, img_png, l_label, ljunc0, ljunc1, r_label, rjunc0, rjunc1, rmse, time = record_tuple\n",
    "    ljunc0, ljunc1, rjunc0, rjunc1 = map(parser_str_to_tuple, (ljunc0, ljunc1, rjunc0, rjunc1))\n",
    "    record = {\n",
    "        \"ljunc0_x\": ljunc0[0],\n",
    "        \"ljunc0_y\": ljunc0[1],\n",
    "        \"ljunc1_x\": ljunc1[0],\n",
    "        \"ljunc1_y\": ljunc1[1],\n",
    "        \n",
    "        \"rjunc0_x\": rjunc0[0],\n",
    "        \"rjunc0_y\": rjunc0[1],\n",
    "        \"rjunc1_x\": rjunc1[0],\n",
    "        \"rjunc1_y\": rjunc1[1],\n",
    "    }\n",
    "    juncs.append(record)"
   ]
  },
  {
   "cell_type": "code",
   "execution_count": 14,
   "id": "15426a54",
   "metadata": {},
   "outputs": [],
   "source": [
    "df_junc = pd.DataFrame(juncs)"
   ]
  },
  {
   "cell_type": "code",
   "execution_count": 15,
   "id": "ac71bb0b",
   "metadata": {},
   "outputs": [
    {
     "data": {
      "text/html": [
       "<div>\n",
       "<style scoped>\n",
       "    .dataframe tbody tr th:only-of-type {\n",
       "        vertical-align: middle;\n",
       "    }\n",
       "\n",
       "    .dataframe tbody tr th {\n",
       "        vertical-align: top;\n",
       "    }\n",
       "\n",
       "    .dataframe thead th {\n",
       "        text-align: right;\n",
       "    }\n",
       "</style>\n",
       "<table border=\"1\" class=\"dataframe\">\n",
       "  <thead>\n",
       "    <tr style=\"text-align: right;\">\n",
       "      <th></th>\n",
       "      <th>ljunc0_x</th>\n",
       "      <th>ljunc0_y</th>\n",
       "      <th>ljunc1_x</th>\n",
       "      <th>ljunc1_y</th>\n",
       "      <th>rjunc0_x</th>\n",
       "      <th>rjunc0_y</th>\n",
       "      <th>rjunc1_x</th>\n",
       "      <th>rjunc1_y</th>\n",
       "    </tr>\n",
       "  </thead>\n",
       "  <tbody>\n",
       "    <tr>\n",
       "      <th>0</th>\n",
       "      <td>699.625046</td>\n",
       "      <td>2051.528320</td>\n",
       "      <td>699.625230</td>\n",
       "      <td>3.653469</td>\n",
       "      <td>2171.250</td>\n",
       "      <td>11.337950</td>\n",
       "      <td>2171.250000</td>\n",
       "      <td>2059.212891</td>\n",
       "    </tr>\n",
       "    <tr>\n",
       "      <th>1</th>\n",
       "      <td>699.625046</td>\n",
       "      <td>2051.528320</td>\n",
       "      <td>699.625230</td>\n",
       "      <td>3.653475</td>\n",
       "      <td>2171.250</td>\n",
       "      <td>2059.212891</td>\n",
       "      <td>2171.250184</td>\n",
       "      <td>11.337964</td>\n",
       "    </tr>\n",
       "    <tr>\n",
       "      <th>2</th>\n",
       "      <td>675.500046</td>\n",
       "      <td>2051.402344</td>\n",
       "      <td>675.500092</td>\n",
       "      <td>3.527417</td>\n",
       "      <td>2123.000</td>\n",
       "      <td>2058.960938</td>\n",
       "      <td>2123.000000</td>\n",
       "      <td>11.085997</td>\n",
       "    </tr>\n",
       "    <tr>\n",
       "      <th>3</th>\n",
       "      <td>699.625046</td>\n",
       "      <td>2051.528320</td>\n",
       "      <td>699.625230</td>\n",
       "      <td>3.653476</td>\n",
       "      <td>2171.250</td>\n",
       "      <td>2059.212891</td>\n",
       "      <td>2171.250184</td>\n",
       "      <td>11.337960</td>\n",
       "    </tr>\n",
       "    <tr>\n",
       "      <th>4</th>\n",
       "      <td>675.500092</td>\n",
       "      <td>2051.402467</td>\n",
       "      <td>699.625230</td>\n",
       "      <td>3.653478</td>\n",
       "      <td>2171.250</td>\n",
       "      <td>2059.212891</td>\n",
       "      <td>2171.250184</td>\n",
       "      <td>11.337965</td>\n",
       "    </tr>\n",
       "    <tr>\n",
       "      <th>...</th>\n",
       "      <td>...</td>\n",
       "      <td>...</td>\n",
       "      <td>...</td>\n",
       "      <td>...</td>\n",
       "      <td>...</td>\n",
       "      <td>...</td>\n",
       "      <td>...</td>\n",
       "      <td>...</td>\n",
       "    </tr>\n",
       "    <tr>\n",
       "      <th>1503</th>\n",
       "      <td>217.125069</td>\n",
       "      <td>2049.008789</td>\n",
       "      <td>217.125207</td>\n",
       "      <td>1.133927</td>\n",
       "      <td>2677.875</td>\n",
       "      <td>2061.858398</td>\n",
       "      <td>2677.875184</td>\n",
       "      <td>13.983477</td>\n",
       "    </tr>\n",
       "    <tr>\n",
       "      <th>1504</th>\n",
       "      <td>217.125069</td>\n",
       "      <td>2049.008789</td>\n",
       "      <td>217.125184</td>\n",
       "      <td>1.133917</td>\n",
       "      <td>2702.000</td>\n",
       "      <td>14.109427</td>\n",
       "      <td>2702.000000</td>\n",
       "      <td>2061.984375</td>\n",
       "    </tr>\n",
       "    <tr>\n",
       "      <th>1505</th>\n",
       "      <td>217.125115</td>\n",
       "      <td>2049.008912</td>\n",
       "      <td>217.125253</td>\n",
       "      <td>1.133955</td>\n",
       "      <td>2726.125</td>\n",
       "      <td>2062.110352</td>\n",
       "      <td>2726.125184</td>\n",
       "      <td>14.235417</td>\n",
       "    </tr>\n",
       "    <tr>\n",
       "      <th>1506</th>\n",
       "      <td>217.125092</td>\n",
       "      <td>2049.008789</td>\n",
       "      <td>217.125207</td>\n",
       "      <td>1.133924</td>\n",
       "      <td>2702.000</td>\n",
       "      <td>2061.984375</td>\n",
       "      <td>2702.000184</td>\n",
       "      <td>14.109437</td>\n",
       "    </tr>\n",
       "    <tr>\n",
       "      <th>1507</th>\n",
       "      <td>217.125069</td>\n",
       "      <td>2049.008789</td>\n",
       "      <td>217.125184</td>\n",
       "      <td>1.133916</td>\n",
       "      <td>2677.875</td>\n",
       "      <td>2061.858398</td>\n",
       "      <td>2677.875184</td>\n",
       "      <td>13.983496</td>\n",
       "    </tr>\n",
       "  </tbody>\n",
       "</table>\n",
       "<p>1508 rows × 8 columns</p>\n",
       "</div>"
      ],
      "text/plain": [
       "        ljunc0_x     ljunc0_y    ljunc1_x  ljunc1_y  rjunc0_x     rjunc0_y  \\\n",
       "0     699.625046  2051.528320  699.625230  3.653469  2171.250    11.337950   \n",
       "1     699.625046  2051.528320  699.625230  3.653475  2171.250  2059.212891   \n",
       "2     675.500046  2051.402344  675.500092  3.527417  2123.000  2058.960938   \n",
       "3     699.625046  2051.528320  699.625230  3.653476  2171.250  2059.212891   \n",
       "4     675.500092  2051.402467  699.625230  3.653478  2171.250  2059.212891   \n",
       "...          ...          ...         ...       ...       ...          ...   \n",
       "1503  217.125069  2049.008789  217.125207  1.133927  2677.875  2061.858398   \n",
       "1504  217.125069  2049.008789  217.125184  1.133917  2702.000    14.109427   \n",
       "1505  217.125115  2049.008912  217.125253  1.133955  2726.125  2062.110352   \n",
       "1506  217.125092  2049.008789  217.125207  1.133924  2702.000  2061.984375   \n",
       "1507  217.125069  2049.008789  217.125184  1.133916  2677.875  2061.858398   \n",
       "\n",
       "         rjunc1_x     rjunc1_y  \n",
       "0     2171.250000  2059.212891  \n",
       "1     2171.250184    11.337964  \n",
       "2     2123.000000    11.085997  \n",
       "3     2171.250184    11.337960  \n",
       "4     2171.250184    11.337965  \n",
       "...           ...          ...  \n",
       "1503  2677.875184    13.983477  \n",
       "1504  2702.000000  2061.984375  \n",
       "1505  2726.125184    14.235417  \n",
       "1506  2702.000184    14.109437  \n",
       "1507  2677.875184    13.983496  \n",
       "\n",
       "[1508 rows x 8 columns]"
      ]
     },
     "execution_count": 15,
     "metadata": {},
     "output_type": "execute_result"
    }
   ],
   "source": [
    "df_junc"
   ]
  },
  {
   "cell_type": "code",
   "execution_count": 16,
   "id": "a7bf37be",
   "metadata": {},
   "outputs": [
    {
     "data": {
      "text/plain": [
       "<AxesSubplot:xlabel='rjunc1_x', ylabel='rjunc1_y'>"
      ]
     },
     "execution_count": 16,
     "metadata": {},
     "output_type": "execute_result"
    },
    {
     "data": {
      "image/png": "[encoded data removed]",
      "text/plain": [
       "<Figure size 640x480 with 1 Axes>"
      ]
     },
     "metadata": {},
     "output_type": "display_data"
    },
    {
     "data": {
      "image/png": "[encoded data removed]",
      "text/plain": [
       "<Figure size 640x480 with 1 Axes>"
      ]
     },
     "metadata": {},
     "output_type": "display_data"
    },
    {
     "data": {
      "image/png": "[encoded data removed]",
      "text/plain": [
       "<Figure size 640x480 with 1 Axes>"
      ]
     },
     "metadata": {},
     "output_type": "display_data"
    },
    {
     "data": {
      "image/png": "[encoded data removed]",
      "text/plain": [
       "<Figure size 640x480 with 1 Axes>"
      ]
     },
     "metadata": {},
     "output_type": "display_data"
    }
   ],
   "source": [
    "df_junc.plot.scatter(x='ljunc0_x', y='ljunc0_y', c='DarkBlue')\n",
    "df_junc.plot.scatter(x='ljunc1_x', y='ljunc1_y', c='DarkBlue')\n",
    "\n",
    "df_junc.plot.scatter(x='rjunc0_x', y='rjunc0_y', c='DarkBlue')\n",
    "df_junc.plot.scatter(x='rjunc1_x', y='rjunc1_y', c='DarkBlue')"
   ]
  }
 ],
 "metadata": {
  "kernelspec": {
   "display_name": "Python 3.9.12 64-bit ('lcnn': conda)",
   "language": "python",
   "name": "python391264bitlcnnconda98a203cd311a499fa11965c545934146"
  },
  "language_info": {
   "codemirror_mode": {
    "name": "ipython",
    "version": 3
   },
   "file_extension": ".py",
   "mimetype": "text/x-python",
   "name": "python",
   "nbconvert_exporter": "python",
   "pygments_lexer": "ipython3",
   "version": "3.9.12"
  }
 },
 "nbformat": 4,
 "nbformat_minor": 5
}

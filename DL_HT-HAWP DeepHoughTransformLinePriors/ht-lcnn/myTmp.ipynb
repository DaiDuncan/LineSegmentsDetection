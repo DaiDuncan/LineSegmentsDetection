{
 "cells": [
  {
   "cell_type": "code",
   "execution_count": 2,
   "metadata": {
    "tags": []
   },
   "outputs": [
    {
     "name": "stderr",
     "output_type": "stream",
     "text": [
      "C:\\tools\\Anaconda3\\envs\\lcnn\\lib\\site-packages\\tqdm\\auto.py:22: TqdmWarning: IProgress not found. Please update jupyter and ipywidgets. See https://ipywidgets.readthedocs.io/en/stable/user_install.html\n",
      "  from .autonotebook import tqdm as notebook_tqdm\n"
     ]
    }
   ],
   "source": [
    "import datetime\n",
    "import glob\n",
    "import os\n",
    "import os.path as osp\n",
    "import platform\n",
    "import pprint\n",
    "import random\n",
    "import shlex\n",
    "import shutil\n",
    "import signal\n",
    "import subprocess\n",
    "import sys\n",
    "import threading\n",
    "\n",
    "import numpy as np\n",
    "import torch\n",
    "import yaml\n",
    "from docopt import docopt\n",
    "import scipy.io as sio\n",
    "import lcnn\n",
    "from lcnn.config import C, M\n",
    "from lcnn.datasets import WireframeDataset, collate\n",
    "from lcnn.models.line_vectorizer import LineVectorizer\n",
    "from lcnn.models.multitask_learner import MultitaskHead, MultitaskLearner\n",
    "from lcnn.models.HT import hough_transform"
   ]
  },
  {
   "cell_type": "code",
   "execution_count": 3,
   "metadata": {
    "tags": []
   },
   "outputs": [
    {
     "data": {
      "text/plain": [
       "'221005-135225'"
      ]
     },
     "execution_count": 3,
     "metadata": {},
     "output_type": "execute_result"
    }
   ],
   "source": [
    "str(datetime.datetime.now().strftime(\"%y%m%d-%H%M%S\"))"
   ]
  },
  {
   "cell_type": "code",
   "execution_count": 5,
   "metadata": {},
   "outputs": [
    {
     "name": "stdout",
     "output_type": "stream",
     "text": [
      "1276189738688\n"
     ]
    }
   ],
   "source": [
    "with open('./myTmp.ipynb', 'r') as f:\n",
    "    identifier = id(f)\n",
    "    print(identifier)"
   ]
  },
  {
   "cell_type": "code",
   "execution_count": 7,
   "metadata": {},
   "outputs": [],
   "source": [
    "rootdir = './figs'\n",
    "filelist = glob.glob(f\"{rootdir}/exp_*.png\")"
   ]
  },
  {
   "cell_type": "code",
   "execution_count": 11,
   "metadata": {},
   "outputs": [],
   "source": [
    "from skimage import io\n",
    "iname = filelist[1]\n",
    "image = io.imread(iname).astype(float)[:, :, :3]"
   ]
  },
  {
   "cell_type": "code",
   "execution_count": 19,
   "metadata": {},
   "outputs": [
    {
     "data": {
      "text/plain": [
       "(555, 555, 3)"
      ]
     },
     "execution_count": 19,
     "metadata": {},
     "output_type": "execute_result"
    }
   ],
   "source": [
    "image.shape"
   ]
  },
  {
   "cell_type": "code",
   "execution_count": 23,
   "metadata": {},
   "outputs": [
    {
     "data": {
      "text/plain": [
       "(555, 555, 3)"
      ]
     },
     "execution_count": 23,
     "metadata": {},
     "output_type": "execute_result"
    }
   ],
   "source": [
    "image[:, ::-1, :].shape"
   ]
  }
 ],
 "metadata": {
  "kernelspec": {
   "display_name": "Python 3.9.12 64-bit ('lcnn': conda)",
   "language": "python",
   "name": "python391264bitlcnnconda98a203cd311a499fa11965c545934146"
  },
  "language_info": {
   "codemirror_mode": {
    "name": "ipython",
    "version": 3
   },
   "file_extension": ".py",
   "mimetype": "text/x-python",
   "name": "python",
   "nbconvert_exporter": "python",
   "pygments_lexer": "ipython3",
   "version": "3.9.12"
  }
 },
 "nbformat": 4,
 "nbformat_minor": 2
}
